{
 "cells": [
  {
   "cell_type": "markdown",
   "metadata": {},
   "source": [
    "# Replication of the Experiment on Comparing Static and Dynamic Weighted Software Coupling Metrics"
   ]
  },
  {
   "cell_type": "markdown",
   "metadata": {},
   "source": [
    "This notebook contains all scripts for the replication of the experiment conducted by Schnoor and Hasselbring: Schnoor, H. & Hasselbring, W., 2020. Comparing Static and Dynamic Weighted Software Coupling Metrics. Computers, 9(2), P. 24. Available at: https://www.mdpi.com/2073-431X/9/2/24.\n",
    "\n",
    "The differences of the coupling metrics are studied by comparing the ranking obtained by ordering the program modules by their coupling degree using the Kendall-Tau distance. The coupling degrees (import = outgoing calls, export = incoming calls, combined = import + export) are obtained from static and dynamic dependency graphs stored in a Neo4j database.\n",
    "\n",
    "The results of the replication study are presented using the following triple $\\alpha : \\beta1 \\leftrightarrow \\beta2 $, where\n",
    "* $\\alpha$ is $c$ or $p$ expressing **c**lass or **p**ackage coupling,\n",
    "* $\\beta1$ is $s$ or $u$ expressing whether the left-hand side analysis is **s**tatic or (dynamic) **u**nweighted,\n",
    "* $\\beta2$ is $u$ or $w$ expressing whether the right-hand side analysis is (dynamic) **u**nweighted or (dynamic) **w**eighted.\n",
    "\n",
    "\n"
   ]
  },
  {
   "cell_type": "markdown",
   "metadata": {},
   "source": [
    "## Database connection\n",
    "Establish the connection to the Neo4j graph database containing the static and dynamic dependency graphs."
   ]
  },
  {
   "cell_type": "code",
   "execution_count": null,
   "metadata": {},
   "outputs": [],
   "source": [
    "import py2neo\n",
    "\n",
    "graph = py2neo.Graph(host='localhost', user='neo4j', password='neo4j')"
   ]
  },
  {
   "cell_type": "markdown",
   "metadata": {},
   "source": [
    "## Kendall-Tau distance\n",
    "\n",
    "For a finite base set $S$ with size $n$, the metric compares two linear orders $<1$ and $<2$. The Kendall–Tau distance $\\tau(<1, <2)$ is the number of swaps needed to obtain the order $<1$ from $<2$, normalized by dividing by number of possible swaps $\\frac{n \\cdot (n−1)}{2}$. Hence, $τ(<1, <2)$ is always between $0$ (if $<1$ and $<2$ are identical)\n",
    "and $1$ (if $<1$ is the reverse of $<2$). Values smaller than $0.5$ indicate that the orders are closer together than expected from two random orders, while values larger than $0.5$ indicate the opposite. Values further away from $0.5$ imply higher correlation between two orders."
   ]
  },
  {
   "cell_type": "code",
   "execution_count": null,
   "metadata": {},
   "outputs": [],
   "source": [
    "import numpy as np\n",
    "import pandas as pd\n",
    "\n",
    "try:\n",
    "    # Python 2\n",
    "    xrange\n",
    "except NameError:\n",
    "    # Python 3, xrange is now named range\n",
    "    xrange = range\n",
    "\n",
    "def kendalltau_distance(df1, df2, column, level, normalized=True):\n",
    "    df1_copy = df1.copy()\n",
    "    df2_copy = df2.copy()\n",
    "    # create rank column for import|export|combined\n",
    "    df1_copy['rank']=df1_copy[column].rank(ascending=True, method='average')\n",
    "    df2_copy['rank']=df2_copy[column].rank(ascending=True, method='average')\n",
    "\n",
    "    # sort values according to rank and class|package name\n",
    "    df1_copy.sort_values(by=['rank',level], inplace=True, ascending=[False, False])\n",
    "    df2_copy.sort_values(by=['rank', level], inplace=True, ascending=[False, False])\n",
    "\n",
    "    # calculate Kendall-Tau distance\n",
    "    x = np.asarray(df1_copy.index.values.tolist())\n",
    "    y = np.asarray(df2_copy.index.values.tolist())\n",
    "    kendalltau_distance = 0\n",
    "    n = x.size - 1\n",
    "    weights = np.ones(n)   \n",
    "    for i in xrange(n - 1, -1, -1):\n",
    "        key = x[i]\n",
    "        j = i + 1\n",
    "        while j <= n and np.where(y == key)[0] > np.where(y == x[j])[0]:\n",
    "            x[j - 1] = x[j]\n",
    "            kendalltau_distance += weights[j - 1]\n",
    "            j += 1\n",
    "        x[j - 1] = key \n",
    "    if normalized:\n",
    "        n = len(x)\n",
    "        return kendalltau_distance / ((n * (n - 1)) / 2)  \n",
    "    return kendalltau_distance"
   ]
  },
  {
   "cell_type": "markdown",
   "metadata": {},
   "source": [
    "## Query coupling metrics and compare coupling orders\n",
    "Execute Cypher queries to calculate the dependency graph metrics, store the results in dataframes, and compare the coupling orders using the Kendall-Tau distance.\n",
    "\n"
   ]
  },
  {
   "cell_type": "markdown",
   "metadata": {},
   "source": [
    "### $c : s \\leftrightarrow u$"
   ]
  },
  {
   "cell_type": "code",
   "execution_count": null,
   "metadata": {
    "scrolled": true
   },
   "outputs": [],
   "source": [
    "# Query coupling degrees from static dependency graph on class level\n",
    "query_c_s =\"\"\"\n",
    "MATCH (type:Type:Java:Experiment)\n",
    "WITH type.fqn AS class\n",
    "OPTIONAL MATCH (:Type:Java:Experiment{fqn:class})-[out:CALLS]->(callee:Type:Experiment)\n",
    "WITH class, COUNT(DISTINCT callee.fqn) AS import\n",
    "OPTIONAL MATCH (caller:Type:Experiment)-[in:CALLS]->(:Type:Java:Experiment{fqn:class})\n",
    "WITH class, import, COUNT(DISTINCT caller.fqn) AS export\n",
    "WHERE import + export > 0\n",
    "RETURN class, import, export, SUM(import + export) AS combined\n",
    "ORDER BY class\n",
    "\"\"\"\n",
    "df_c_s = pd.DataFrame(graph.run(query_c_s).data())\n",
    "\n",
    "# Query coupling degrees from unweighted dynamic dependency graph on class level\n",
    "query_c_u =\"\"\"\n",
    "MATCH (type:Type:Kieker:Experiment)\n",
    "OPTIONAL MATCH (type)-[out:CALLS]->(:Type:Kieker:Experiment)\n",
    "WITH type, COUNT(out) AS import\n",
    "OPTIONAL MATCH (:Type:Kieker:Experiment)-[in:CALLS]->(type)\n",
    "WITH type, import, COUNT(in) as export\n",
    "WHERE import + export > 0\n",
    "RETURN type.fqn AS class, import, export, (import+export) AS combined\n",
    "ORDER BY class\n",
    "\"\"\"\n",
    "df_c_u = pd.DataFrame(graph.run(query_c_u).data())\n",
    "\n",
    "# Compare coupling orders\n",
    "c_s_u_i = kendalltau_distance(df_c_s, df_c_u, 'import', 'class')   # 0.3694527525627889\n",
    "c_s_u_e = kendalltau_distance(df_c_s, df_c_u, 'export', 'class')   # 0.3783595264552937\n",
    "c_s_u_c = kendalltau_distance(df_c_s, df_c_u, 'combined', 'class') # 0.35091342199067727\n",
    "\n",
    "print('original    c : s <-> u: import = 0.37 export = 0.38 combined = 0.35')\n",
    "print('replication c : s <-> u: import =', round(c_s_u_i, 2), 'export =', round(c_s_u_e, 2), 'combined =', round(c_s_u_c, 2))"
   ]
  },
  {
   "cell_type": "markdown",
   "metadata": {},
   "source": [
    "### $c : s \\leftrightarrow w$"
   ]
  },
  {
   "cell_type": "code",
   "execution_count": null,
   "metadata": {},
   "outputs": [],
   "source": [
    "# Query coupling degrees from static dependency graph on class level\n",
    "query_c_s =\"\"\"\n",
    "MATCH (type:Type:Java:Experiment)\n",
    "WITH type.fqn AS class\n",
    "OPTIONAL MATCH (:Type:Java:Experiment{fqn:class})-[out:CALLS]->(callee:Type:Experiment)\n",
    "WITH class, COUNT(DISTINCT callee.fqn) AS import\n",
    "OPTIONAL MATCH (caller:Type:Experiment)-[in:CALLS]->(:Type:Java:Experiment{fqn:class})\n",
    "WITH class, import, COUNT(DISTINCT caller.fqn) AS export\n",
    "WHERE import + export > 0\n",
    "RETURN class, import, export, SUM(import + export) AS combined\n",
    "ORDER BY class\n",
    "\"\"\"\n",
    "df_c_s = pd.DataFrame(graph.run(query_c_s).data())\n",
    "\n",
    "# Query coupling degrees from weighted dynamic dependency graph on class level\n",
    "query_c_w =\"\"\"\n",
    "MATCH (type:Type:Kieker:Experiment)\n",
    "OPTIONAL MATCH (type)-[out:CALLS]->(:Type:Kieker:Experiment)\n",
    "WITH type, SUM(out.weight) AS import\n",
    "OPTIONAL MATCH (:Type:Kieker:Experiment)-[in:CALLS]->(type)\n",
    "WITH type, import, SUM(in.weight) as export\n",
    "WHERE import + export > 0\n",
    "RETURN type.fqn AS class, import, export, (import+export) AS combined\n",
    "ORDER BY class\n",
    "\"\"\"\n",
    "df_c_w = pd.DataFrame(graph.run(query_c_w).data())\n",
    "\n",
    "# Compare coupling orders\n",
    "c_s_w_i = kendalltau_distance(df_c_s, df_c_w, 'import', 'class')   # 0.42251441944592766\n",
    "c_s_w_e = kendalltau_distance(df_c_s, df_c_w, 'export', 'class')   # 0.4024973662563318\n",
    "c_s_w_c = kendalltau_distance(df_c_s, df_c_w, 'combined', 'class') # 0.4073827202362913\n",
    "\n",
    "print('original    c : s <-> w: import = 0.42 export = 0.40 combined = 0.40')\n",
    "print('replication c : s <-> w: import =', round(c_s_w_i, 2), 'export =', format(round(c_s_w_e, 2), '.2f'),\n",
    "      'combined =', round(c_s_w_c, 2))"
   ]
  },
  {
   "attachments": {},
   "cell_type": "markdown",
   "metadata": {},
   "source": [
    "The difference with the combined coupling degree (0.40 vs. 0.41) is due to the integration of the following classes in the static dependency analysis of the replication:\n",
    "\n",
    "| class | import | export | combined |\n",
    "| --- | --- | --- | --- |\n",
    "| com.atlassian.jira.software.api.conditions.HasValidSoftwareLicenseCondition |  3 | 0 | 3 | \n",
    "| com.atlassian.sal.core.transaction.HostContextTransactionTemplate | 1 | 0 | 1 |\n",
    "| com.atlassian.soy.impl.DefaultSoyTemplateRenderer | 4 | 0 | 4 |\n",
    "| java.util.List | 0 | 947 | 947 |\n"
   ]
  },
  {
   "cell_type": "markdown",
   "metadata": {},
   "source": [
    "### $c : u \\leftrightarrow w$"
   ]
  },
  {
   "cell_type": "code",
   "execution_count": null,
   "metadata": {},
   "outputs": [],
   "source": [
    "# Query coupling degrees from unweighted dynamic dependency graph on class level\n",
    "query_c_u =\"\"\"\n",
    "MATCH (type:Type:Kieker)\n",
    "OPTIONAL MATCH (type)-[out:CALLS]->(:Type:Kieker)\n",
    "WITH type, COUNT(out) AS import\n",
    "OPTIONAL MATCH (:Type:Kieker)-[in:CALLS]->(type)\n",
    "WITH type, import, COUNT(in) as export\n",
    "WHERE import + export > 0\n",
    "RETURN type.fqn AS class, import, export, (import+export) AS combined\n",
    "\"\"\"\n",
    "df_c_u = pd.DataFrame(graph.run(query_c_u).data())\n",
    "\n",
    "# Query coupling degrees from weighted dynamic dependency graph on class level\n",
    "query_c_w =\"\"\"\n",
    "MATCH (type:Type:Kieker)\n",
    "OPTIONAL MATCH (type)-[out:CALLS]->(:Type:Kieker)\n",
    "WITH type, SUM(out.weight) AS import\n",
    "OPTIONAL MATCH (:Type:Kieker)-[in:CALLS]->(type)\n",
    "WITH type, import, SUM(in.weight) as export\n",
    "WHERE import + export > 0\n",
    "RETURN type.fqn AS class, import, export, (import+export) AS combined\n",
    "\"\"\"\n",
    "df_c_w = pd.DataFrame(graph.run(query_c_w).data())\n",
    "\n",
    "# Compare coupling orders\n",
    "c_u_w_i = kendalltau_distance(df_c_u, df_c_w, 'import', 'class')   # 0.12162782370406024\n",
    "c_u_w_e = kendalltau_distance(df_c_u, df_c_w, 'export', 'class')   # 0.23033767822230733\n",
    "c_u_w_c = kendalltau_distance(df_c_u, df_c_w, 'combined', 'class') # 0.28793007711027335\n",
    "\n",
    "print('original    c : u <-> w: import = 0.12 export = 0.23 combined = 0.29')\n",
    "print('replication c : u <-> w: import =', round(c_u_w_i, 2), 'export =', round(c_u_w_e, 2), 'combined =', round(c_u_w_c, 2))"
   ]
  },
  {
   "cell_type": "markdown",
   "metadata": {},
   "source": [
    "### $p : s \\leftrightarrow u$"
   ]
  },
  {
   "cell_type": "code",
   "execution_count": null,
   "metadata": {},
   "outputs": [],
   "source": [
    "# Query coupling degrees from static dependency graph on package level\n",
    "query_p_s =\"\"\"\n",
    "MATCH (package:Package:Java:Experiment)\n",
    "WITH package.fqn as package\n",
    "OPTIONAL MATCH (:Package:Java{fqn:package})-[out:CALLS]->(callee:Package:Experiment)\n",
    "WITH package, COUNT(DISTINCT callee.fqn) AS import\n",
    "OPTIONAL MATCH (caller:Package:Experiment)-[in:CALLS]->(:Package:Java{fqn:package})\n",
    "WITH package, import, COUNT(DISTINCT caller.fqn) AS export\n",
    "WHERE import + export > 0\n",
    "RETURN package, import, export, SUM(import + export) AS combined\n",
    "ORDER BY package\n",
    "\"\"\"\n",
    "df_p_s = pd.DataFrame(graph.run(query_p_s).data())\n",
    "\n",
    "# Query coupling degrees from unweighted dynamic dependency graph on package level\n",
    "query_p_u =\"\"\"\n",
    "MATCH (package:Package:Kieker:Experiment)\n",
    "OPTIONAL MATCH (package)-[out:CALLS]->(:Package:Kieker:Experiment)\n",
    "WITH package, COUNT(out) AS import\n",
    "OPTIONAL MATCH (:Package:Kieker:Experiment)-[in:CALLS]->(package)\n",
    "WITH package, import, COUNT(in) as export\n",
    "WHERE import + export > 0\n",
    "RETURN package.fqn AS package, import, export, (import+export) AS combined\n",
    "ORDER BY package\n",
    "\"\"\"\n",
    "df_p_u = pd.DataFrame(graph.run(query_p_u).data())\n",
    "\n",
    "# Compare coupling orders\n",
    "p_s_u_i = kendalltau_distance(df_p_s, df_p_u, 'import', 'package')   # 0.36141222621771824\n",
    "p_s_u_e = kendalltau_distance(df_p_s, df_p_u, 'export', 'package')   # 0.2812213141549526\n",
    "p_s_u_c = kendalltau_distance(df_p_s, df_p_u, 'combined', 'package') # 0.2970042497548218\n",
    "\n",
    "print('original    p : s <-> u: import = 0.36 export = 0.28 combined = 0.30')\n",
    "print('replication p : s <-> u: import =', round(p_s_u_i, 2), 'export =', round(p_s_u_e, 2),\n",
    "      'combined =', format(round(p_s_u_c, 2), '.2f'))"
   ]
  },
  {
   "cell_type": "markdown",
   "metadata": {},
   "source": [
    "### $p : s \\leftrightarrow w$"
   ]
  },
  {
   "cell_type": "code",
   "execution_count": null,
   "metadata": {},
   "outputs": [],
   "source": [
    "# Query coupling degrees from static dependency graph on package level\n",
    "query_p_s =\"\"\"\n",
    "MATCH (package:Package:Java:Experiment)\n",
    "WITH package.fqn as package\n",
    "OPTIONAL MATCH (:Package:Java{fqn:package})-[out:CALLS]->(callee:Package:Experiment)\n",
    "WITH package, COUNT(DISTINCT callee.fqn) AS import\n",
    "OPTIONAL MATCH (caller:Package:Experiment)-[in:CALLS]->(:Package:Java{fqn:package})\n",
    "WITH package, import, COUNT(DISTINCT caller.fqn) AS export\n",
    "WHERE import + export > 0\n",
    "RETURN package, import, export, SUM(import + export) AS combined\n",
    "ORDER BY package\n",
    "\"\"\"\n",
    "df_p_s = pd.DataFrame(graph.run(query_p_s).data())\n",
    "\n",
    "# Query coupling degrees from weighted dynamic dependency graph on package level\n",
    "query_p_w =\"\"\"\n",
    "MATCH (package:Package:Kieker:Experiment)\n",
    "OPTIONAL MATCH (package)-[out:CALLS]->(:Package:Kieker:Experiment)\n",
    "WITH package, SUM(out.weight) AS import\n",
    "OPTIONAL MATCH (:Package:Kieker:Experiment)-[in:CALLS]->(package)\n",
    "WITH package, import, SUM(in.weight) as export\n",
    "WHERE import + export > 0\n",
    "RETURN package.fqn AS package, import, export, (import+export) AS combined\n",
    "ORDER BY package\n",
    "\"\"\"\n",
    "df_p_w = pd.DataFrame(graph.run(query_p_w).data())\n",
    "\n",
    "# Compare coupling orders\n",
    "p_s_w_i = kendalltau_distance(df_p_s, df_p_w, 'import', 'package')   # 0.38834128800261525\n",
    "p_s_w_e = kendalltau_distance(df_p_s, df_p_w, 'export', 'package')   # 0.31650866296175223 \n",
    "p_s_w_c = kendalltau_distance(df_p_s, df_p_w, 'combined', 'package') # 0.3342661000326904\n",
    "\n",
    "print('original    p : s <-> w: import = 0.39 export = 0.32 combined = 0.33')\n",
    "print('replication p : s <-> w: import =', round(p_s_w_i, 2), 'export =', round(p_s_w_e, 2), 'combined =', round(p_s_w_c, 2))"
   ]
  },
  {
   "cell_type": "markdown",
   "metadata": {},
   "source": [
    "### $p : u \\leftrightarrow w$"
   ]
  },
  {
   "cell_type": "code",
   "execution_count": null,
   "metadata": {},
   "outputs": [],
   "source": [
    "# Query coupling degrees from unweighted dynamic dependency graph on package level\n",
    "query_p_u =\"\"\"\n",
    "MATCH (package:Package:Kieker)\n",
    "OPTIONAL MATCH (package)-[out:CALLS]->(:Package:Kieker)\n",
    "WITH package, COUNT(out) AS import\n",
    "OPTIONAL MATCH (:Package:Kieker)-[in:CALLS]->(package)\n",
    "WITH package, import, COUNT(in) as export\n",
    "WHERE import + export > 0\n",
    "RETURN package.fqn AS package, import, export, (import+export) AS combined\n",
    "\"\"\"\n",
    "df_p_u = pd.DataFrame(graph.run(query_p_u).data())\n",
    "\n",
    "# Query coupling degrees from weighted dynamic dependency graph on package level\n",
    "query_p_w =\"\"\"\n",
    "MATCH (package:Package:Kieker)\n",
    "OPTIONAL MATCH (package)-[out:CALLS]->(:Package:Kieker)\n",
    "WITH package, SUM(out.weight) AS import\n",
    "OPTIONAL MATCH (:Package:Kieker)-[in:CALLS]->(package)\n",
    "WITH package, import, SUM(in.weight) as export\n",
    "WHERE import + export > 0\n",
    "RETURN package.fqn AS package, import, export, (import+export) AS combined\n",
    "\"\"\"\n",
    "df_p_w = pd.DataFrame(graph.run(query_p_w).data())\n",
    "\n",
    "# Compare coupling orders\n",
    "p_u_w_i = kendalltau_distance(df_p_u, df_p_w, 'import', 'package')   # 0.06144584205229576\n",
    "p_u_w_e = kendalltau_distance(df_p_u, df_p_w, 'export', 'package')   # 0.203561712236919\n",
    "p_u_w_c = kendalltau_distance(df_p_u, df_p_w, 'combined', 'package') # 0.23703995408227613\n",
    "\n",
    "print('original    p : u <-> w: import = 0.06 export = 0.20 combined = 0.24')\n",
    "print('replication p : u <-> w: import =', round(p_u_w_i, 2), 'export =', format(round(p_u_w_e, 2), '.2f'),\n",
    "      'combined =', round(p_u_w_c, 2))"
   ]
  },
  {
   "cell_type": "code",
   "execution_count": null,
   "metadata": {},
   "outputs": [],
   "source": []
  }
 ],
 "metadata": {
  "kernelspec": {
   "display_name": "Python [conda env:SVIS]",
   "language": "python",
   "name": "conda-env-SVIS-py"
  },
  "language_info": {
   "codemirror_mode": {
    "name": "ipython",
    "version": 3
   },
   "file_extension": ".py",
   "mimetype": "text/x-python",
   "name": "python",
   "nbconvert_exporter": "python",
   "pygments_lexer": "ipython3",
   "version": "3.6.5"
  }
 },
 "nbformat": 4,
 "nbformat_minor": 2
}
